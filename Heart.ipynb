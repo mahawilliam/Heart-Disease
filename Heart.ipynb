{
 "cells": [
  {
   "cell_type": "code",
   "execution_count": 152,
   "metadata": {},
   "outputs": [],
   "source": [
    "import pandas as pd\n",
    "import matplotlib.pyplot as plt\n",
    "import seaborn as sns\n",
    "import numpy as np\n",
    "\n",
    "from sklearn import preprocessing\n",
    "from sklearn.metrics.cluster import contingency_matrix\n",
    "from sklearn.cluster import KMeans\n",
    "from sklearn.cluster import DBSCAN\n",
    "from sklearn.cluster import AgglomerativeClustering\n",
    "from sklearn.neighbors import NearestNeighbors"
   ]
  },
  {
   "cell_type": "code",
   "execution_count": 2,
   "metadata": {},
   "outputs": [
    {
     "name": "stdout",
     "output_type": "stream",
     "text": [
      "(1200, 14)\n",
      "(89, 14)\n"
     ]
    },
    {
     "data": {
      "text/html": [
       "<div>\n",
       "<style scoped>\n",
       "    .dataframe tbody tr th:only-of-type {\n",
       "        vertical-align: middle;\n",
       "    }\n",
       "\n",
       "    .dataframe tbody tr th {\n",
       "        vertical-align: top;\n",
       "    }\n",
       "\n",
       "    .dataframe thead th {\n",
       "        text-align: right;\n",
       "    }\n",
       "</style>\n",
       "<table border=\"1\" class=\"dataframe\">\n",
       "  <thead>\n",
       "    <tr style=\"text-align: right;\">\n",
       "      <th></th>\n",
       "      <th>age</th>\n",
       "      <th>sex</th>\n",
       "      <th>cp</th>\n",
       "      <th>trestbps</th>\n",
       "      <th>chol</th>\n",
       "      <th>fbs</th>\n",
       "      <th>restecg</th>\n",
       "      <th>thalach</th>\n",
       "      <th>exang</th>\n",
       "      <th>oldpeak</th>\n",
       "      <th>slope</th>\n",
       "      <th>ca</th>\n",
       "      <th>thal</th>\n",
       "      <th>num</th>\n",
       "    </tr>\n",
       "  </thead>\n",
       "  <tbody>\n",
       "    <tr>\n",
       "      <td>0</td>\n",
       "      <td>51</td>\n",
       "      <td>0</td>\n",
       "      <td>3</td>\n",
       "      <td>130</td>\n",
       "      <td>220</td>\n",
       "      <td>0</td>\n",
       "      <td>0</td>\n",
       "      <td>160</td>\n",
       "      <td>1</td>\n",
       "      <td>2</td>\n",
       "      <td>?</td>\n",
       "      <td>?</td>\n",
       "      <td>?</td>\n",
       "      <td>0</td>\n",
       "    </tr>\n",
       "    <tr>\n",
       "      <td>1</td>\n",
       "      <td>54</td>\n",
       "      <td>1</td>\n",
       "      <td>4</td>\n",
       "      <td>125</td>\n",
       "      <td>216</td>\n",
       "      <td>0</td>\n",
       "      <td>0</td>\n",
       "      <td>140</td>\n",
       "      <td>0</td>\n",
       "      <td>0</td>\n",
       "      <td>?</td>\n",
       "      <td>?</td>\n",
       "      <td>?</td>\n",
       "      <td>1</td>\n",
       "    </tr>\n",
       "    <tr>\n",
       "      <td>2</td>\n",
       "      <td>48</td>\n",
       "      <td>1</td>\n",
       "      <td>2</td>\n",
       "      <td>100</td>\n",
       "      <td>252</td>\n",
       "      <td>0</td>\n",
       "      <td>0</td>\n",
       "      <td>100</td>\n",
       "      <td>0</td>\n",
       "      <td>0</td>\n",
       "      <td>?</td>\n",
       "      <td>?</td>\n",
       "      <td>?</td>\n",
       "      <td>0</td>\n",
       "    </tr>\n",
       "    <tr>\n",
       "      <td>3</td>\n",
       "      <td>36</td>\n",
       "      <td>1</td>\n",
       "      <td>3</td>\n",
       "      <td>130</td>\n",
       "      <td>209</td>\n",
       "      <td>0</td>\n",
       "      <td>0</td>\n",
       "      <td>178</td>\n",
       "      <td>0</td>\n",
       "      <td>0</td>\n",
       "      <td>?</td>\n",
       "      <td>?</td>\n",
       "      <td>6</td>\n",
       "      <td>0</td>\n",
       "    </tr>\n",
       "    <tr>\n",
       "      <td>4</td>\n",
       "      <td>56</td>\n",
       "      <td>1</td>\n",
       "      <td>4</td>\n",
       "      <td>120</td>\n",
       "      <td>85</td>\n",
       "      <td>0</td>\n",
       "      <td>0</td>\n",
       "      <td>140</td>\n",
       "      <td>0</td>\n",
       "      <td>0</td>\n",
       "      <td>?</td>\n",
       "      <td>?</td>\n",
       "      <td>?</td>\n",
       "      <td>0</td>\n",
       "    </tr>\n",
       "  </tbody>\n",
       "</table>\n",
       "</div>"
      ],
      "text/plain": [
       "   age  sex  cp  trestbps  chol  fbs  restecg  thalach  exang  oldpeak slope  \\\n",
       "0   51    0   3       130   220    0        0      160      1        2     ?   \n",
       "1   54    1   4       125   216    0        0      140      0        0     ?   \n",
       "2   48    1   2       100   252    0        0      100      0        0     ?   \n",
       "3   36    1   3       130   209    0        0      178      0        0     ?   \n",
       "4   56    1   4       120    85    0        0      140      0        0     ?   \n",
       "\n",
       "  ca thal  num  \n",
       "0  ?    ?    0  \n",
       "1  ?    ?    1  \n",
       "2  ?    ?    0  \n",
       "3  ?    6    0  \n",
       "4  ?    ?    0  "
      ]
     },
     "execution_count": 2,
     "metadata": {},
     "output_type": "execute_result"
    }
   ],
   "source": [
    "# Read dataset\n",
    "train_data = pd.read_csv(\"./data/train.csv\")\n",
    "test_data = pd.read_csv(\"./data/test.csv\")\n",
    "\n",
    "print(train_data.shape)\n",
    "print(test_data.shape)\n",
    "train_data.head()"
   ]
  },
  {
   "cell_type": "code",
   "execution_count": 3,
   "metadata": {},
   "outputs": [],
   "source": [
    "# Helper Function\n",
    "\n",
    "def z_score(data):   \n",
    "    z_score = (data - data.mean()) / data.std()\n",
    "    return z_score\n",
    "\n",
    "def encode_onehot(df):\n",
    "    enc = preprocessing.OneHotEncoder(handle_unknown='ignore')\n",
    "    new_df = enc.fit_transform(df).toarray()\n",
    "    return new_df\n",
    "\n",
    "def purity(y_train, y_pred):\n",
    "    con_matrix = contingency_matrix(y_train, y_pred)\n",
    "    return np.sum(np.amax(con_matrix, axis=0)) / np.sum(con_matrix) "
   ]
  },
  {
   "cell_type": "markdown",
   "metadata": {},
   "source": [
    "# Preprocessing"
   ]
  },
  {
   "cell_type": "code",
   "execution_count": 4,
   "metadata": {},
   "outputs": [
    {
     "name": "stdout",
     "output_type": "stream",
     "text": [
      "age            0\n",
      "sex            0\n",
      "cp             0\n",
      "trestbps       0\n",
      "chol           0\n",
      "fbs            0\n",
      "restecg        0\n",
      "thalach        0\n",
      "exang          0\n",
      "oldpeak        0\n",
      "slope       1129\n",
      "ca          1197\n",
      "thal        1181\n",
      "num            0\n",
      "dtype: int64 \n",
      "\n",
      "age          0\n",
      "sex          0\n",
      "cp           0\n",
      "trestbps     1\n",
      "chol         9\n",
      "fbs          0\n",
      "restecg      0\n",
      "thalach      1\n",
      "exang        1\n",
      "oldpeak      0\n",
      "slope       56\n",
      "ca          89\n",
      "thal        80\n",
      "num          0\n",
      "dtype: int64\n"
     ]
    }
   ],
   "source": [
    "# Replace ? with NaN\n",
    "train_data = train_data.replace('?', np.nan)\n",
    "test_data = test_data.replace('?', np.nan)\n",
    "print(train_data.isnull().sum(), \"\\n\")\n",
    "print(test_data.isnull().sum())"
   ]
  },
  {
   "cell_type": "code",
   "execution_count": 5,
   "metadata": {},
   "outputs": [],
   "source": [
    "# Drop columns with high percentage of missing values\n",
    "train_data = train_data.drop(['slope','ca','thal'], axis=1)\n",
    "test_data = test_data.drop(['slope','ca','thal'], axis=1)"
   ]
  },
  {
   "cell_type": "code",
   "execution_count": 6,
   "metadata": {},
   "outputs": [
    {
     "data": {
      "text/plain": [
       "0    969\n",
       "1    231\n",
       "Name: exang, dtype: int64"
      ]
     },
     "execution_count": 6,
     "metadata": {},
     "output_type": "execute_result"
    }
   ],
   "source": [
    "# Fill missing values with mode for categorical data and mean for the rest\n",
    "\n",
    "mean_trestbps = train_data.mean().round(0).astype(np.int64)['trestbps']\n",
    "mean_chol = train_data.mean().round(0).astype(np.int64)['chol']\n",
    "mean_thalach = train_data.mean().round(0).astype(np.int64)['thalach']\n",
    "train_data['exang'].value_counts()"
   ]
  },
  {
   "cell_type": "code",
   "execution_count": 7,
   "metadata": {},
   "outputs": [],
   "source": [
    "test_data['trestbps'] = test_data['trestbps'].fillna(mean_trestbps)\n",
    "test_data['chol'] = test_data['chol'].fillna(mean_trestbps)\n",
    "test_data['thalach'] = test_data['thalach'].fillna(mean_trestbps)\n",
    "test_data['exang'] = test_data['exang'].fillna(0)"
   ]
  },
  {
   "cell_type": "code",
   "execution_count": 8,
   "metadata": {},
   "outputs": [
    {
     "name": "stdout",
     "output_type": "stream",
     "text": [
      "Train Data Initial Shape       : (1200, 11)\n",
      "Train Data after Duplicate Drops : (1075, 11)\n",
      "Test Data Initial Shape       : (89, 11)\n",
      "Test Data after Duplicate Drops : (89, 11)\n"
     ]
    }
   ],
   "source": [
    "# Removing duplicates\n",
    "print(\"Train Data Initial Shape       : \" + str(train_data.shape))\n",
    "train_data = train_data.drop_duplicates(keep='first')\n",
    "print(\"Train Data after Duplicate Drops : \" + str(train_data.shape))\n",
    "print(\"Test Data Initial Shape       : \" + str(test_data.shape))\n",
    "test_data = test_data.drop_duplicates(keep='first')\n",
    "print(\"Test Data after Duplicate Drops : \" + str(test_data.shape))"
   ]
  },
  {
   "cell_type": "code",
   "execution_count": 9,
   "metadata": {},
   "outputs": [
    {
     "data": {
      "text/html": [
       "<div>\n",
       "<style scoped>\n",
       "    .dataframe tbody tr th:only-of-type {\n",
       "        vertical-align: middle;\n",
       "    }\n",
       "\n",
       "    .dataframe tbody tr th {\n",
       "        vertical-align: top;\n",
       "    }\n",
       "\n",
       "    .dataframe thead th {\n",
       "        text-align: right;\n",
       "    }\n",
       "</style>\n",
       "<table border=\"1\" class=\"dataframe\">\n",
       "  <thead>\n",
       "    <tr style=\"text-align: right;\">\n",
       "      <th></th>\n",
       "      <th>age</th>\n",
       "      <th>sex</th>\n",
       "      <th>cp</th>\n",
       "      <th>trestbps</th>\n",
       "      <th>chol</th>\n",
       "      <th>fbs</th>\n",
       "      <th>restecg</th>\n",
       "      <th>thalach</th>\n",
       "      <th>exang</th>\n",
       "      <th>oldpeak</th>\n",
       "      <th>num</th>\n",
       "    </tr>\n",
       "  </thead>\n",
       "  <tbody>\n",
       "    <tr>\n",
       "      <td>age</td>\n",
       "      <td>1.000000</td>\n",
       "      <td>-0.107089</td>\n",
       "      <td>0.054548</td>\n",
       "      <td>0.119263</td>\n",
       "      <td>-0.051992</td>\n",
       "      <td>0.120169</td>\n",
       "      <td>0.063250</td>\n",
       "      <td>-0.373249</td>\n",
       "      <td>0.145396</td>\n",
       "      <td>0.075378</td>\n",
       "      <td>0.070328</td>\n",
       "    </tr>\n",
       "    <tr>\n",
       "      <td>sex</td>\n",
       "      <td>-0.107089</td>\n",
       "      <td>1.000000</td>\n",
       "      <td>0.129129</td>\n",
       "      <td>0.070483</td>\n",
       "      <td>-0.003982</td>\n",
       "      <td>-0.017682</td>\n",
       "      <td>-0.209436</td>\n",
       "      <td>0.004379</td>\n",
       "      <td>0.020255</td>\n",
       "      <td>-0.081550</td>\n",
       "      <td>0.175996</td>\n",
       "    </tr>\n",
       "    <tr>\n",
       "      <td>cp</td>\n",
       "      <td>0.054548</td>\n",
       "      <td>0.129129</td>\n",
       "      <td>1.000000</td>\n",
       "      <td>0.083352</td>\n",
       "      <td>0.128005</td>\n",
       "      <td>-0.006424</td>\n",
       "      <td>-0.036257</td>\n",
       "      <td>-0.241609</td>\n",
       "      <td>0.460841</td>\n",
       "      <td>0.329491</td>\n",
       "      <td>0.489021</td>\n",
       "    </tr>\n",
       "    <tr>\n",
       "      <td>trestbps</td>\n",
       "      <td>0.119263</td>\n",
       "      <td>0.070483</td>\n",
       "      <td>0.083352</td>\n",
       "      <td>1.000000</td>\n",
       "      <td>-0.011026</td>\n",
       "      <td>0.006197</td>\n",
       "      <td>-0.106176</td>\n",
       "      <td>-0.166611</td>\n",
       "      <td>0.220986</td>\n",
       "      <td>0.129089</td>\n",
       "      <td>0.121009</td>\n",
       "    </tr>\n",
       "    <tr>\n",
       "      <td>chol</td>\n",
       "      <td>-0.051992</td>\n",
       "      <td>-0.003982</td>\n",
       "      <td>0.128005</td>\n",
       "      <td>-0.011026</td>\n",
       "      <td>1.000000</td>\n",
       "      <td>0.113573</td>\n",
       "      <td>0.115987</td>\n",
       "      <td>-0.022418</td>\n",
       "      <td>0.087375</td>\n",
       "      <td>0.058916</td>\n",
       "      <td>0.144643</td>\n",
       "    </tr>\n",
       "    <tr>\n",
       "      <td>fbs</td>\n",
       "      <td>0.120169</td>\n",
       "      <td>-0.017682</td>\n",
       "      <td>-0.006424</td>\n",
       "      <td>0.006197</td>\n",
       "      <td>0.113573</td>\n",
       "      <td>1.000000</td>\n",
       "      <td>0.138947</td>\n",
       "      <td>-0.090212</td>\n",
       "      <td>0.115765</td>\n",
       "      <td>-0.020186</td>\n",
       "      <td>0.095058</td>\n",
       "    </tr>\n",
       "    <tr>\n",
       "      <td>restecg</td>\n",
       "      <td>0.063250</td>\n",
       "      <td>-0.209436</td>\n",
       "      <td>-0.036257</td>\n",
       "      <td>-0.106176</td>\n",
       "      <td>0.115987</td>\n",
       "      <td>0.138947</td>\n",
       "      <td>1.000000</td>\n",
       "      <td>0.041517</td>\n",
       "      <td>-0.023308</td>\n",
       "      <td>-0.061259</td>\n",
       "      <td>-0.038419</td>\n",
       "    </tr>\n",
       "    <tr>\n",
       "      <td>thalach</td>\n",
       "      <td>-0.373249</td>\n",
       "      <td>0.004379</td>\n",
       "      <td>-0.241609</td>\n",
       "      <td>-0.166611</td>\n",
       "      <td>-0.022418</td>\n",
       "      <td>-0.090212</td>\n",
       "      <td>0.041517</td>\n",
       "      <td>1.000000</td>\n",
       "      <td>-0.283794</td>\n",
       "      <td>-0.190937</td>\n",
       "      <td>-0.226316</td>\n",
       "    </tr>\n",
       "    <tr>\n",
       "      <td>exang</td>\n",
       "      <td>0.145396</td>\n",
       "      <td>0.020255</td>\n",
       "      <td>0.460841</td>\n",
       "      <td>0.220986</td>\n",
       "      <td>0.087375</td>\n",
       "      <td>0.115765</td>\n",
       "      <td>-0.023308</td>\n",
       "      <td>-0.283794</td>\n",
       "      <td>1.000000</td>\n",
       "      <td>0.544079</td>\n",
       "      <td>0.541707</td>\n",
       "    </tr>\n",
       "    <tr>\n",
       "      <td>oldpeak</td>\n",
       "      <td>0.075378</td>\n",
       "      <td>-0.081550</td>\n",
       "      <td>0.329491</td>\n",
       "      <td>0.129089</td>\n",
       "      <td>0.058916</td>\n",
       "      <td>-0.020186</td>\n",
       "      <td>-0.061259</td>\n",
       "      <td>-0.190937</td>\n",
       "      <td>0.544079</td>\n",
       "      <td>1.000000</td>\n",
       "      <td>0.554616</td>\n",
       "    </tr>\n",
       "    <tr>\n",
       "      <td>num</td>\n",
       "      <td>0.070328</td>\n",
       "      <td>0.175996</td>\n",
       "      <td>0.489021</td>\n",
       "      <td>0.121009</td>\n",
       "      <td>0.144643</td>\n",
       "      <td>0.095058</td>\n",
       "      <td>-0.038419</td>\n",
       "      <td>-0.226316</td>\n",
       "      <td>0.541707</td>\n",
       "      <td>0.554616</td>\n",
       "      <td>1.000000</td>\n",
       "    </tr>\n",
       "  </tbody>\n",
       "</table>\n",
       "</div>"
      ],
      "text/plain": [
       "               age       sex        cp  trestbps      chol       fbs  \\\n",
       "age       1.000000 -0.107089  0.054548  0.119263 -0.051992  0.120169   \n",
       "sex      -0.107089  1.000000  0.129129  0.070483 -0.003982 -0.017682   \n",
       "cp        0.054548  0.129129  1.000000  0.083352  0.128005 -0.006424   \n",
       "trestbps  0.119263  0.070483  0.083352  1.000000 -0.011026  0.006197   \n",
       "chol     -0.051992 -0.003982  0.128005 -0.011026  1.000000  0.113573   \n",
       "fbs       0.120169 -0.017682 -0.006424  0.006197  0.113573  1.000000   \n",
       "restecg   0.063250 -0.209436 -0.036257 -0.106176  0.115987  0.138947   \n",
       "thalach  -0.373249  0.004379 -0.241609 -0.166611 -0.022418 -0.090212   \n",
       "exang     0.145396  0.020255  0.460841  0.220986  0.087375  0.115765   \n",
       "oldpeak   0.075378 -0.081550  0.329491  0.129089  0.058916 -0.020186   \n",
       "num       0.070328  0.175996  0.489021  0.121009  0.144643  0.095058   \n",
       "\n",
       "           restecg   thalach     exang   oldpeak       num  \n",
       "age       0.063250 -0.373249  0.145396  0.075378  0.070328  \n",
       "sex      -0.209436  0.004379  0.020255 -0.081550  0.175996  \n",
       "cp       -0.036257 -0.241609  0.460841  0.329491  0.489021  \n",
       "trestbps -0.106176 -0.166611  0.220986  0.129089  0.121009  \n",
       "chol      0.115987 -0.022418  0.087375  0.058916  0.144643  \n",
       "fbs       0.138947 -0.090212  0.115765 -0.020186  0.095058  \n",
       "restecg   1.000000  0.041517 -0.023308 -0.061259 -0.038419  \n",
       "thalach   0.041517  1.000000 -0.283794 -0.190937 -0.226316  \n",
       "exang    -0.023308 -0.283794  1.000000  0.544079  0.541707  \n",
       "oldpeak  -0.061259 -0.190937  0.544079  1.000000  0.554616  \n",
       "num      -0.038419 -0.226316  0.541707  0.554616  1.000000  "
      ]
     },
     "execution_count": 9,
     "metadata": {},
     "output_type": "execute_result"
    }
   ],
   "source": [
    "corr = train_data.corr()\n",
    "corr"
   ]
  },
  {
   "cell_type": "code",
   "execution_count": 10,
   "metadata": {},
   "outputs": [
    {
     "data": {
      "text/plain": [
       "Text(0.5, 1, 'Heatmap of Correlation')"
      ]
     },
     "execution_count": 10,
     "metadata": {},
     "output_type": "execute_result"
    },
    {
     "data": {
      "image/png": "[encoded data removed]",
      "text/plain": [
       "<Figure size 864x720 with 2 Axes>"
      ]
     },
     "metadata": {
      "needs_background": "light"
     },
     "output_type": "display_data"
    }
   ],
   "source": [
    "plt.figure(figsize=(12,10))\n",
    "heat = sns.heatmap(corr)\n",
    "plt.title('Heatmap of Correlation')"
   ]
  },
  {
   "cell_type": "code",
   "execution_count": 11,
   "metadata": {},
   "outputs": [],
   "source": [
    "# Combining Train and Test Dataset\n",
    "test_data['trestbps'] = test_data['trestbps'].astype(np.int64)\n",
    "test_data['chol'] = test_data['chol'].astype(np.int64)\n",
    "test_data['thalach'] = test_data['thalach'].astype(np.int64)\n",
    "test_data['exang'] = test_data['exang'].astype(np.int64)\n",
    "test_data['oldpeak'] = test_data['oldpeak'].astype(np.int64)"
   ]
  },
  {
   "cell_type": "code",
   "execution_count": 12,
   "metadata": {},
   "outputs": [
    {
     "data": {
      "text/html": [
       "<div>\n",
       "<style scoped>\n",
       "    .dataframe tbody tr th:only-of-type {\n",
       "        vertical-align: middle;\n",
       "    }\n",
       "\n",
       "    .dataframe tbody tr th {\n",
       "        vertical-align: top;\n",
       "    }\n",
       "\n",
       "    .dataframe thead th {\n",
       "        text-align: right;\n",
       "    }\n",
       "</style>\n",
       "<table border=\"1\" class=\"dataframe\">\n",
       "  <thead>\n",
       "    <tr style=\"text-align: right;\">\n",
       "      <th></th>\n",
       "      <th>age</th>\n",
       "      <th>sex</th>\n",
       "      <th>cp</th>\n",
       "      <th>trestbps</th>\n",
       "      <th>chol</th>\n",
       "      <th>fbs</th>\n",
       "      <th>restecg</th>\n",
       "      <th>thalach</th>\n",
       "      <th>exang</th>\n",
       "      <th>oldpeak</th>\n",
       "      <th>num</th>\n",
       "    </tr>\n",
       "  </thead>\n",
       "  <tbody>\n",
       "    <tr>\n",
       "      <td>0</td>\n",
       "      <td>51</td>\n",
       "      <td>0</td>\n",
       "      <td>3</td>\n",
       "      <td>130</td>\n",
       "      <td>220</td>\n",
       "      <td>0</td>\n",
       "      <td>0</td>\n",
       "      <td>160</td>\n",
       "      <td>1</td>\n",
       "      <td>2</td>\n",
       "      <td>0</td>\n",
       "    </tr>\n",
       "    <tr>\n",
       "      <td>1</td>\n",
       "      <td>54</td>\n",
       "      <td>1</td>\n",
       "      <td>4</td>\n",
       "      <td>125</td>\n",
       "      <td>216</td>\n",
       "      <td>0</td>\n",
       "      <td>0</td>\n",
       "      <td>140</td>\n",
       "      <td>0</td>\n",
       "      <td>0</td>\n",
       "      <td>1</td>\n",
       "    </tr>\n",
       "    <tr>\n",
       "      <td>2</td>\n",
       "      <td>48</td>\n",
       "      <td>1</td>\n",
       "      <td>2</td>\n",
       "      <td>100</td>\n",
       "      <td>252</td>\n",
       "      <td>0</td>\n",
       "      <td>0</td>\n",
       "      <td>100</td>\n",
       "      <td>0</td>\n",
       "      <td>0</td>\n",
       "      <td>0</td>\n",
       "    </tr>\n",
       "    <tr>\n",
       "      <td>3</td>\n",
       "      <td>36</td>\n",
       "      <td>1</td>\n",
       "      <td>3</td>\n",
       "      <td>130</td>\n",
       "      <td>209</td>\n",
       "      <td>0</td>\n",
       "      <td>0</td>\n",
       "      <td>178</td>\n",
       "      <td>0</td>\n",
       "      <td>0</td>\n",
       "      <td>0</td>\n",
       "    </tr>\n",
       "    <tr>\n",
       "      <td>4</td>\n",
       "      <td>56</td>\n",
       "      <td>1</td>\n",
       "      <td>4</td>\n",
       "      <td>120</td>\n",
       "      <td>85</td>\n",
       "      <td>0</td>\n",
       "      <td>0</td>\n",
       "      <td>140</td>\n",
       "      <td>0</td>\n",
       "      <td>0</td>\n",
       "      <td>0</td>\n",
       "    </tr>\n",
       "  </tbody>\n",
       "</table>\n",
       "</div>"
      ],
      "text/plain": [
       "   age  sex  cp  trestbps  chol  fbs  restecg  thalach  exang  oldpeak  num\n",
       "0   51    0   3       130   220    0        0      160      1        2    0\n",
       "1   54    1   4       125   216    0        0      140      0        0    1\n",
       "2   48    1   2       100   252    0        0      100      0        0    0\n",
       "3   36    1   3       130   209    0        0      178      0        0    0\n",
       "4   56    1   4       120    85    0        0      140      0        0    0"
      ]
     },
     "execution_count": 12,
     "metadata": {},
     "output_type": "execute_result"
    }
   ],
   "source": [
    "combined_data = pd.concat([train_data, test_data], axis = 0)\n",
    "combined_data.head()"
   ]
  },
  {
   "cell_type": "code",
   "execution_count": 13,
   "metadata": {},
   "outputs": [
    {
     "data": {
      "text/html": [
       "<div>\n",
       "<style scoped>\n",
       "    .dataframe tbody tr th:only-of-type {\n",
       "        vertical-align: middle;\n",
       "    }\n",
       "\n",
       "    .dataframe tbody tr th {\n",
       "        vertical-align: top;\n",
       "    }\n",
       "\n",
       "    .dataframe thead th {\n",
       "        text-align: right;\n",
       "    }\n",
       "</style>\n",
       "<table border=\"1\" class=\"dataframe\">\n",
       "  <thead>\n",
       "    <tr style=\"text-align: right;\">\n",
       "      <th></th>\n",
       "      <th>age</th>\n",
       "      <th>sex</th>\n",
       "      <th>cp</th>\n",
       "      <th>trestbps</th>\n",
       "      <th>chol</th>\n",
       "      <th>fbs</th>\n",
       "      <th>restecg</th>\n",
       "      <th>thalach</th>\n",
       "      <th>exang</th>\n",
       "      <th>oldpeak</th>\n",
       "      <th>num</th>\n",
       "    </tr>\n",
       "  </thead>\n",
       "  <tbody>\n",
       "    <tr>\n",
       "      <td>age</td>\n",
       "      <td>1.000000</td>\n",
       "      <td>-0.084129</td>\n",
       "      <td>0.074450</td>\n",
       "      <td>0.148773</td>\n",
       "      <td>-0.035068</td>\n",
       "      <td>0.133704</td>\n",
       "      <td>0.059967</td>\n",
       "      <td>-0.400544</td>\n",
       "      <td>0.177074</td>\n",
       "      <td>0.105437</td>\n",
       "      <td>0.098456</td>\n",
       "    </tr>\n",
       "    <tr>\n",
       "      <td>sex</td>\n",
       "      <td>-0.084129</td>\n",
       "      <td>1.000000</td>\n",
       "      <td>0.148896</td>\n",
       "      <td>0.080526</td>\n",
       "      <td>0.012366</td>\n",
       "      <td>-0.000130</td>\n",
       "      <td>-0.189548</td>\n",
       "      <td>-0.011687</td>\n",
       "      <td>0.043650</td>\n",
       "      <td>-0.047262</td>\n",
       "      <td>0.185198</td>\n",
       "    </tr>\n",
       "    <tr>\n",
       "      <td>cp</td>\n",
       "      <td>0.074450</td>\n",
       "      <td>0.148896</td>\n",
       "      <td>1.000000</td>\n",
       "      <td>0.090370</td>\n",
       "      <td>0.123767</td>\n",
       "      <td>0.009413</td>\n",
       "      <td>-0.015370</td>\n",
       "      <td>-0.262349</td>\n",
       "      <td>0.464798</td>\n",
       "      <td>0.335079</td>\n",
       "      <td>0.493510</td>\n",
       "    </tr>\n",
       "    <tr>\n",
       "      <td>trestbps</td>\n",
       "      <td>0.148773</td>\n",
       "      <td>0.080526</td>\n",
       "      <td>0.090370</td>\n",
       "      <td>1.000000</td>\n",
       "      <td>-0.003345</td>\n",
       "      <td>0.025243</td>\n",
       "      <td>-0.083786</td>\n",
       "      <td>-0.167776</td>\n",
       "      <td>0.220019</td>\n",
       "      <td>0.146378</td>\n",
       "      <td>0.133055</td>\n",
       "    </tr>\n",
       "    <tr>\n",
       "      <td>chol</td>\n",
       "      <td>-0.035068</td>\n",
       "      <td>0.012366</td>\n",
       "      <td>0.123767</td>\n",
       "      <td>-0.003345</td>\n",
       "      <td>1.000000</td>\n",
       "      <td>0.108649</td>\n",
       "      <td>0.119788</td>\n",
       "      <td>-0.035889</td>\n",
       "      <td>0.099164</td>\n",
       "      <td>0.072483</td>\n",
       "      <td>0.161258</td>\n",
       "    </tr>\n",
       "    <tr>\n",
       "      <td>fbs</td>\n",
       "      <td>0.133704</td>\n",
       "      <td>-0.000130</td>\n",
       "      <td>0.009413</td>\n",
       "      <td>0.025243</td>\n",
       "      <td>0.108649</td>\n",
       "      <td>1.000000</td>\n",
       "      <td>0.115476</td>\n",
       "      <td>-0.095517</td>\n",
       "      <td>0.120938</td>\n",
       "      <td>-0.003008</td>\n",
       "      <td>0.111463</td>\n",
       "    </tr>\n",
       "    <tr>\n",
       "      <td>restecg</td>\n",
       "      <td>0.059967</td>\n",
       "      <td>-0.189548</td>\n",
       "      <td>-0.015370</td>\n",
       "      <td>-0.083786</td>\n",
       "      <td>0.119788</td>\n",
       "      <td>0.115476</td>\n",
       "      <td>1.000000</td>\n",
       "      <td>0.026464</td>\n",
       "      <td>0.002528</td>\n",
       "      <td>-0.017729</td>\n",
       "      <td>-0.025025</td>\n",
       "    </tr>\n",
       "    <tr>\n",
       "      <td>thalach</td>\n",
       "      <td>-0.400544</td>\n",
       "      <td>-0.011687</td>\n",
       "      <td>-0.262349</td>\n",
       "      <td>-0.167776</td>\n",
       "      <td>-0.035889</td>\n",
       "      <td>-0.095517</td>\n",
       "      <td>0.026464</td>\n",
       "      <td>1.000000</td>\n",
       "      <td>-0.303584</td>\n",
       "      <td>-0.210786</td>\n",
       "      <td>-0.247008</td>\n",
       "    </tr>\n",
       "    <tr>\n",
       "      <td>exang</td>\n",
       "      <td>0.177074</td>\n",
       "      <td>0.043650</td>\n",
       "      <td>0.464798</td>\n",
       "      <td>0.220019</td>\n",
       "      <td>0.099164</td>\n",
       "      <td>0.120938</td>\n",
       "      <td>0.002528</td>\n",
       "      <td>-0.303584</td>\n",
       "      <td>1.000000</td>\n",
       "      <td>0.561659</td>\n",
       "      <td>0.549018</td>\n",
       "    </tr>\n",
       "    <tr>\n",
       "      <td>oldpeak</td>\n",
       "      <td>0.105437</td>\n",
       "      <td>-0.047262</td>\n",
       "      <td>0.335079</td>\n",
       "      <td>0.146378</td>\n",
       "      <td>0.072483</td>\n",
       "      <td>-0.003008</td>\n",
       "      <td>-0.017729</td>\n",
       "      <td>-0.210786</td>\n",
       "      <td>0.561659</td>\n",
       "      <td>1.000000</td>\n",
       "      <td>0.554215</td>\n",
       "    </tr>\n",
       "    <tr>\n",
       "      <td>num</td>\n",
       "      <td>0.098456</td>\n",
       "      <td>0.185198</td>\n",
       "      <td>0.493510</td>\n",
       "      <td>0.133055</td>\n",
       "      <td>0.161258</td>\n",
       "      <td>0.111463</td>\n",
       "      <td>-0.025025</td>\n",
       "      <td>-0.247008</td>\n",
       "      <td>0.549018</td>\n",
       "      <td>0.554215</td>\n",
       "      <td>1.000000</td>\n",
       "    </tr>\n",
       "  </tbody>\n",
       "</table>\n",
       "</div>"
      ],
      "text/plain": [
       "               age       sex        cp  trestbps      chol       fbs  \\\n",
       "age       1.000000 -0.084129  0.074450  0.148773 -0.035068  0.133704   \n",
       "sex      -0.084129  1.000000  0.148896  0.080526  0.012366 -0.000130   \n",
       "cp        0.074450  0.148896  1.000000  0.090370  0.123767  0.009413   \n",
       "trestbps  0.148773  0.080526  0.090370  1.000000 -0.003345  0.025243   \n",
       "chol     -0.035068  0.012366  0.123767 -0.003345  1.000000  0.108649   \n",
       "fbs       0.133704 -0.000130  0.009413  0.025243  0.108649  1.000000   \n",
       "restecg   0.059967 -0.189548 -0.015370 -0.083786  0.119788  0.115476   \n",
       "thalach  -0.400544 -0.011687 -0.262349 -0.167776 -0.035889 -0.095517   \n",
       "exang     0.177074  0.043650  0.464798  0.220019  0.099164  0.120938   \n",
       "oldpeak   0.105437 -0.047262  0.335079  0.146378  0.072483 -0.003008   \n",
       "num       0.098456  0.185198  0.493510  0.133055  0.161258  0.111463   \n",
       "\n",
       "           restecg   thalach     exang   oldpeak       num  \n",
       "age       0.059967 -0.400544  0.177074  0.105437  0.098456  \n",
       "sex      -0.189548 -0.011687  0.043650 -0.047262  0.185198  \n",
       "cp       -0.015370 -0.262349  0.464798  0.335079  0.493510  \n",
       "trestbps -0.083786 -0.167776  0.220019  0.146378  0.133055  \n",
       "chol      0.119788 -0.035889  0.099164  0.072483  0.161258  \n",
       "fbs       0.115476 -0.095517  0.120938 -0.003008  0.111463  \n",
       "restecg   1.000000  0.026464  0.002528 -0.017729 -0.025025  \n",
       "thalach   0.026464  1.000000 -0.303584 -0.210786 -0.247008  \n",
       "exang     0.002528 -0.303584  1.000000  0.561659  0.549018  \n",
       "oldpeak  -0.017729 -0.210786  0.561659  1.000000  0.554215  \n",
       "num      -0.025025 -0.247008  0.549018  0.554215  1.000000  "
      ]
     },
     "execution_count": 13,
     "metadata": {},
     "output_type": "execute_result"
    }
   ],
   "source": [
    "combined_corr = combined_data.corr()\n",
    "combined_corr"
   ]
  },
  {
   "cell_type": "code",
   "execution_count": 14,
   "metadata": {},
   "outputs": [
    {
     "data": {
      "text/plain": [
       "Text(0.5, 1, 'Heatmap of Correlation')"
      ]
     },
     "execution_count": 14,
     "metadata": {},
     "output_type": "execute_result"
    },
    {
     "data": {
      "image/png": "[encoded data removed]",
      "text/plain": [
       "<Figure size 864x720 with 2 Axes>"
      ]
     },
     "metadata": {
      "needs_background": "light"
     },
     "output_type": "display_data"
    }
   ],
   "source": [
    "plt.figure(figsize=(12,10))\n",
    "heat = sns.heatmap(combined_corr)\n",
    "plt.title('Heatmap of Correlation')"
   ]
  },
  {
   "cell_type": "code",
   "execution_count": 15,
   "metadata": {},
   "outputs": [],
   "source": [
    "# Normalization\n",
    "train_data_normalized = train_data\n",
    "combined_data_normalized = combined_data\n",
    "\n",
    "train_data_normalized['trestbps'] = z_score(train_data['trestbps'])\n",
    "train_data_normalized['chol'] = z_score(train_data['chol'])\n",
    "train_data_normalized['thalach'] = z_score(train_data['thalach'])\n",
    "\n",
    "combined_data_normalized['trestbps'] = z_score(combined_data['trestbps'])\n",
    "combined_data_normalized['chol'] = z_score(combined_data['chol'])\n",
    "combined_data_normalized['thalach'] = z_score(combined_data['thalach'])"
   ]
  },
  {
   "cell_type": "code",
   "execution_count": 16,
   "metadata": {},
   "outputs": [],
   "source": [
    "# One-Hot Encoding\n",
    "\n",
    "columns = ['cp', 'restecg', 'oldpeak']\n",
    "train_data_encoded = encode_onehot(train_data[columns])\n",
    "combined_data_encoded = encode_onehot(combined_data[columns])"
   ]
  },
  {
   "cell_type": "code",
   "execution_count": 71,
   "metadata": {},
   "outputs": [
    {
     "ename": "AttributeError",
     "evalue": "'numpy.ndarray' object has no attribute 'drop'",
     "output_type": "error",
     "traceback": [
      "\u001b[1;31m---------------------------------------------------------------------------\u001b[0m",
      "\u001b[1;31mAttributeError\u001b[0m                            Traceback (most recent call last)",
      "\u001b[1;32m<ipython-input-71-8f805c690286>\u001b[0m in \u001b[0;36m<module>\u001b[1;34m\u001b[0m\n\u001b[0;32m      3\u001b[0m \u001b[0my_train_encoded\u001b[0m \u001b[1;33m=\u001b[0m \u001b[0mtrain_data_normalized\u001b[0m\u001b[1;33m[\u001b[0m\u001b[1;34m'num'\u001b[0m\u001b[1;33m]\u001b[0m\u001b[1;33m.\u001b[0m\u001b[0mvalues\u001b[0m\u001b[1;33m.\u001b[0m\u001b[0mreshape\u001b[0m\u001b[1;33m(\u001b[0m\u001b[1;33m-\u001b[0m\u001b[1;36m1\u001b[0m\u001b[1;33m,\u001b[0m \u001b[1;36m1\u001b[0m\u001b[1;33m)\u001b[0m\u001b[1;33m\u001b[0m\u001b[1;33m\u001b[0m\u001b[0m\n\u001b[0;32m      4\u001b[0m \u001b[0mX_train\u001b[0m \u001b[1;33m=\u001b[0m \u001b[0mtrain_data_normalized\u001b[0m\u001b[1;33m.\u001b[0m\u001b[0mdrop\u001b[0m\u001b[1;33m(\u001b[0m\u001b[1;33m[\u001b[0m\u001b[1;34m'num'\u001b[0m\u001b[1;33m]\u001b[0m\u001b[1;33m,\u001b[0m \u001b[0maxis\u001b[0m \u001b[1;33m=\u001b[0m \u001b[1;36m1\u001b[0m\u001b[1;33m)\u001b[0m\u001b[1;33m\u001b[0m\u001b[1;33m\u001b[0m\u001b[0m\n\u001b[1;32m----> 5\u001b[1;33m \u001b[0mX_train_encoded\u001b[0m \u001b[1;33m=\u001b[0m \u001b[0mtrain_data_encoded\u001b[0m\u001b[1;33m.\u001b[0m\u001b[0mdrop\u001b[0m\u001b[1;33m(\u001b[0m\u001b[1;33m[\u001b[0m\u001b[1;34m'num'\u001b[0m\u001b[1;33m]\u001b[0m\u001b[1;33m,\u001b[0m \u001b[0maxis\u001b[0m \u001b[1;33m=\u001b[0m \u001b[1;36m1\u001b[0m\u001b[1;33m)\u001b[0m\u001b[1;33m\u001b[0m\u001b[1;33m\u001b[0m\u001b[0m\n\u001b[0m\u001b[0;32m      6\u001b[0m \u001b[0my_combined_normalized\u001b[0m \u001b[1;33m=\u001b[0m \u001b[0mcombined_data_normalized\u001b[0m\u001b[1;33m[\u001b[0m\u001b[1;34m'num'\u001b[0m\u001b[1;33m]\u001b[0m\u001b[1;33m\u001b[0m\u001b[1;33m\u001b[0m\u001b[0m\n\u001b[0;32m      7\u001b[0m \u001b[0my_combined_encoded\u001b[0m \u001b[1;33m=\u001b[0m \u001b[0mcombined_data_normalized\u001b[0m\u001b[1;33m[\u001b[0m\u001b[1;34m'num'\u001b[0m\u001b[1;33m]\u001b[0m\u001b[1;33m.\u001b[0m\u001b[0mvalues\u001b[0m\u001b[1;33m.\u001b[0m\u001b[0mreshape\u001b[0m\u001b[1;33m(\u001b[0m\u001b[1;33m-\u001b[0m\u001b[1;36m1\u001b[0m\u001b[1;33m,\u001b[0m \u001b[1;36m1\u001b[0m\u001b[1;33m)\u001b[0m\u001b[1;33m\u001b[0m\u001b[1;33m\u001b[0m\u001b[0m\n",
      "\u001b[1;31mAttributeError\u001b[0m: 'numpy.ndarray' object has no attribute 'drop'"
     ]
    }
   ],
   "source": [
    "# Split train and test\n",
    "y_train_normalized = train_data_normalized['num']\n",
    "y_train_encoded = train_data_normalized['num'].values.reshape(-1, 1)\n",
    "X_train = train_data_normalized.drop(['num'], axis = 1)\n",
    "\n",
    "y_combined_normalized = combined_data_normalized['num']\n",
    "y_combined_encoded = combined_data_normalized['num'].values.reshape(-1, 1)\n",
    "X_combined = combined_data_normalized.drop(['num'], axis = 1)"
   ]
  },
  {
   "cell_type": "markdown",
   "metadata": {},
   "source": [
    "# K-Means"
   ]
  },
  {
   "cell_type": "code",
   "execution_count": 18,
   "metadata": {},
   "outputs": [
    {
     "data": {
      "text/plain": [
       "0.8204651162790698"
      ]
     },
     "execution_count": 18,
     "metadata": {},
     "output_type": "execute_result"
    }
   ],
   "source": [
    "# Using normalized train data\n",
    "kmeans = KMeans(n_clusters=2).fit(X_train)\n",
    "purity(y_train_normalized, kmeans.labels_)"
   ]
  },
  {
   "cell_type": "code",
   "execution_count": 19,
   "metadata": {},
   "outputs": [
    {
     "data": {
      "text/plain": [
       "0.8101374570446735"
      ]
     },
     "execution_count": 19,
     "metadata": {},
     "output_type": "execute_result"
    }
   ],
   "source": [
    "# Using normalized combined data\n",
    "kmeans = KMeans(n_clusters=2).fit(X_combined)\n",
    "purity(y_combined_normalized, kmeans.labels_)"
   ]
  },
  {
   "cell_type": "markdown",
   "metadata": {},
   "source": [
    "# DBSCAN"
   ]
  },
  {
   "cell_type": "code",
   "execution_count": 62,
   "metadata": {},
   "outputs": [
    {
     "data": {
      "text/plain": [
       "[<matplotlib.lines.Line2D at 0x1baa3711e08>]"
      ]
     },
     "execution_count": 62,
     "metadata": {},
     "output_type": "execute_result"
    },
    {
     "data": {
      "image/png": "[encoded data removed]",
      "text/plain": [
       "<Figure size 432x288 with 1 Axes>"
      ]
     },
     "metadata": {
      "needs_background": "light"
     },
     "output_type": "display_data"
    }
   ],
   "source": [
    "# finding epsilon value with Nearest Neighbor\n",
    "neigh = NearestNeighbors(n_neighbors=2)\n",
    "nbrs = neigh.fit(X_train)\n",
    "distances, indices = nbrs.kneighbors(X_train)\n",
    "distances = np.sort(distances, axis=0)\n",
    "distances = distances[:,1]\n",
    "plt.plot(distances)"
   ]
  },
  {
   "cell_type": "markdown",
   "metadata": {},
   "source": [
    "The optimal epsilon is at the highest point of curvature"
   ]
  },
  {
   "cell_type": "code",
   "execution_count": 144,
   "metadata": {},
   "outputs": [
    {
     "data": {
      "text/plain": [
       "0.8204651162790698"
      ]
     },
     "execution_count": 144,
     "metadata": {},
     "output_type": "execute_result"
    }
   ],
   "source": [
    "# using normalized train data\n",
    "dbscan = DBSCAN(eps = 1.1, min_samples = 8).fit(X_train)\n",
    "purity(y_train_normalized, dbscan.labels_)"
   ]
  },
  {
   "cell_type": "code",
   "execution_count": 148,
   "metadata": {},
   "outputs": [],
   "source": [
    "# clusters = dbscan.labels_\n",
    "# colors = ['royalblue', 'maroon', 'forestgreen', 'mediumorchid', 'tan', 'deeppink', 'olive', 'goldenrod', 'lightcyan', 'navy']\n",
    "# vectorizer = np.vectorize(lambda x: colors[x % len(colors)])\n",
    "# plt.figure(figsize = (15, 2))\n",
    "# plt.scatter(X_train.iloc[:,0], X_train.iloc[:,1], c=vectorizer(clusters))"
   ]
  },
  {
   "cell_type": "code",
   "execution_count": 149,
   "metadata": {},
   "outputs": [],
   "source": [
    "# np.unique(dbscan.labels_)"
   ]
  },
  {
   "cell_type": "code",
   "execution_count": 175,
   "metadata": {},
   "outputs": [
    {
     "data": {
      "text/plain": [
       "0.9144186046511628"
      ]
     },
     "execution_count": 175,
     "metadata": {},
     "output_type": "execute_result"
    }
   ],
   "source": [
    "# using encoded train data\n",
    "dbscan = DBSCAN(eps = 1.1, min_samples = 2).fit(X_train)\n",
    "purity(y_train_encoded, dbscan.labels_)"
   ]
  },
  {
   "cell_type": "code",
   "execution_count": 127,
   "metadata": {},
   "outputs": [
    {
     "data": {
      "text/plain": [
       "0.897766323024055"
      ]
     },
     "execution_count": 127,
     "metadata": {},
     "output_type": "execute_result"
    }
   ],
   "source": [
    "# using normalized combined data\n",
    "dbscan = DBSCAN(eps = 1.1, min_samples = 2).fit(X_combined)\n",
    "purity(y_combined_normalized, dbscan.labels_)"
   ]
  },
  {
   "cell_type": "code",
   "execution_count": 174,
   "metadata": {},
   "outputs": [
    {
     "data": {
      "text/plain": [
       "0.897766323024055"
      ]
     },
     "execution_count": 174,
     "metadata": {},
     "output_type": "execute_result"
    }
   ],
   "source": [
    "# using normalized combined data\n",
    "dbscan = DBSCAN(eps = 1.1, min_samples = 2).fit(X_combined)\n",
    "purity(y_combined_encoded, dbscan.labels_)"
   ]
  },
  {
   "cell_type": "markdown",
   "metadata": {},
   "source": [
    "# Agglomerative"
   ]
  },
  {
   "cell_type": "code",
   "execution_count": 169,
   "metadata": {},
   "outputs": [
    {
     "data": {
      "text/plain": [
       "0.8204651162790698"
      ]
     },
     "execution_count": 169,
     "metadata": {},
     "output_type": "execute_result"
    }
   ],
   "source": [
    "# Using normalized train data\n",
    "\n",
    "agglomerative = AgglomerativeClustering().fit(X_train)\n",
    "purity(y_train_normalized, agglomerative.labels_)"
   ]
  },
  {
   "cell_type": "code",
   "execution_count": 160,
   "metadata": {},
   "outputs": [
    {
     "data": {
      "text/plain": [
       "0.8204651162790698"
      ]
     },
     "execution_count": 160,
     "metadata": {},
     "output_type": "execute_result"
    }
   ],
   "source": [
    "# Using encoded train data\n",
    "\n",
    "agglomerative = AgglomerativeClustering().fit(X_train)\n",
    "purity(y_train_encoded, agglomerative.labels_)"
   ]
  },
  {
   "cell_type": "code",
   "execution_count": 161,
   "metadata": {},
   "outputs": [
    {
     "data": {
      "text/plain": [
       "0.8101374570446735"
      ]
     },
     "execution_count": 161,
     "metadata": {},
     "output_type": "execute_result"
    }
   ],
   "source": [
    "# Using normalized combined data\n",
    "\n",
    "agglomerative = AgglomerativeClustering().fit(X_combined)\n",
    "purity(y_combined_normalized, agglomerative.labels_)"
   ]
  },
  {
   "cell_type": "code",
   "execution_count": 162,
   "metadata": {},
   "outputs": [
    {
     "data": {
      "text/plain": [
       "0.8101374570446735"
      ]
     },
     "execution_count": 162,
     "metadata": {},
     "output_type": "execute_result"
    }
   ],
   "source": [
    "# Using encoded combined data\n",
    "\n",
    "agglomerative = AgglomerativeClustering().fit(X_combined)\n",
    "purity(y_combined_encoded, agglomerative.labels_)"
   ]
  }
 ],
 "metadata": {
  "kernelspec": {
   "display_name": "Python 3",
   "language": "python",
   "name": "python3"
  },
  "language_info": {
   "codemirror_mode": {
    "name": "ipython",
    "version": 3
   },
   "file_extension": ".py",
   "mimetype": "text/x-python",
   "name": "python",
   "nbconvert_exporter": "python",
   "pygments_lexer": "ipython3",
   "version": "3.7.4"
  }
 },
 "nbformat": 4,
 "nbformat_minor": 2
}
